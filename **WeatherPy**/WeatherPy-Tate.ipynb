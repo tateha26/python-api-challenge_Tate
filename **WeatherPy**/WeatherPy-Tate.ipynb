{
 "cells": [
  {
   "cell_type": "code",
   "execution_count": null,
   "metadata": {},
   "outputs": [],
   "source": [
    "#!pip install citipy"
   ]
  },
  {
   "cell_type": "code",
   "execution_count": 20,
   "metadata": {},
   "outputs": [],
   "source": [
    "# Dependencies and Setup\n",
    "import matplotlib.pyplot as plt\n",
    "import pandas as pd\n",
    "import numpy as np\n",
    "import requests\n",
    "import time\n",
    "import json\n",
    "import sys"
   ]
  },
  {
   "cell_type": "code",
   "execution_count": 21,
   "metadata": {},
   "outputs": [],
   "source": [
    "# Import API key\n",
    "from config_Tate import weather_api"
   ]
  },
  {
   "cell_type": "code",
   "execution_count": null,
   "metadata": {},
   "outputs": [],
   "source": []
  },
  {
   "cell_type": "code",
   "execution_count": 22,
   "metadata": {},
   "outputs": [],
   "source": [
    "# Output File (CSV)\n",
    "output_data_file = \"output_data/cities_Tate.csv\""
   ]
  },
  {
   "cell_type": "code",
   "execution_count": 23,
   "metadata": {},
   "outputs": [],
   "source": [
    "# Incorporated citipy to determine city based on latitude and longitude\n",
    "from citipy import citipy"
   ]
  },
  {
   "cell_type": "code",
   "execution_count": 24,
   "metadata": {
    "scrolled": true
   },
   "outputs": [],
   "source": [
    "# Range of latitudes and longitudes\n",
    "lat_range = (-90, 90)\n",
    "lng_range = (-180, 180)"
   ]
  },
  {
   "cell_type": "markdown",
   "metadata": {},
   "source": [
    "## Generate Cities List"
   ]
  },
  {
   "cell_type": "code",
   "execution_count": 25,
   "metadata": {},
   "outputs": [
    {
     "data": {
      "text/plain": [
       "607"
      ]
     },
     "execution_count": 25,
     "metadata": {},
     "output_type": "execute_result"
    }
   ],
   "source": [
    "# List for holding lat_lngs and cities\n",
    "lat_lngs = []\n",
    "cities = []\n",
    "\n",
    "# Create a set of random lat and lng combinations\n",
    "lats = np.random.uniform(low=-90.000, high=90.000, size=1500)\n",
    "lngs = np.random.uniform(low=-180.000, high=180.000, size=1500)\n",
    "lat_lngs = zip(lats, lngs)\n",
    "\n",
    "# Identify nearest city for each lat, lng combination\n",
    "for lat_lng in lat_lngs:\n",
    "    city = citipy.nearest_city(lat_lng[0], lat_lng[1]).city_name\n",
    "    \n",
    "    # If the city is unique, then add it to a our cities list\n",
    "    if city not in cities:\n",
    "        cities.append(city)\n",
    "\n",
    "# Print the city count to confirm sufficient count\n",
    "len(cities)"
   ]
  },
  {
   "cell_type": "code",
   "execution_count": null,
   "metadata": {},
   "outputs": [],
   "source": [
    "cities"
   ]
  },
  {
   "cell_type": "markdown",
   "metadata": {},
   "source": [
    "### Perform API Calls\n",
    "* Perform a weather check on each city using a series of successive API calls.\n",
    "* Include a print log of each city as it'sbeing processed (with the city number and city name).\n"
   ]
  },
  {
   "cell_type": "code",
   "execution_count": 26,
   "metadata": {},
   "outputs": [],
   "source": [
    "# Save config information\n",
    "#url = \"http://api.openweathermap.org/data/2.5/forecast?id=524901&APPID={weather_api}&q=\"\n",
    "url = \"http://api.openweathermap.org/data/2.5/weather?\"\n",
    "units = \"imperial\"\n",
    "# Build partial query URL\n",
    "#query_url = f\"{url}appid={api_key}&units={units}&q=\"\n",
    "q_url = f\"{url}appid={weather_api}&units={units}&q=\""
   ]
  },
  {
   "cell_type": "code",
   "execution_count": 27,
   "metadata": {},
   "outputs": [
    {
     "name": "stdout",
     "output_type": "stream",
     "text": [
      "http://api.openweathermap.org/data/2.5/weather?appid=3d37a48bc100d44c1e11044fb5fb2e6a&units=imperial&q=\n",
      "{'cod': 429, 'message': 'Your account is temporary blocked due to exceeding of requests limitation of your subscription type. Please choose the proper subscription http://openweathermap.org/price'}\n"
     ]
    }
   ],
   "source": [
    "print(q_url)\n",
    "\n",
    "response = requests.get(q_url + \"new york\")\n",
    "print(response.json())"
   ]
  },
  {
   "cell_type": "code",
   "execution_count": null,
   "metadata": {},
   "outputs": [],
   "source": [
    "#info = response.json()"
   ]
  },
  {
   "cell_type": "markdown",
   "metadata": {},
   "source": [
    "### Convert Raw Data to DataFrame\n",
    "* Export the city data into a .csv.\n",
    "* Display the DataFrame"
   ]
  },
  {
   "cell_type": "code",
   "execution_count": null,
   "metadata": {},
   "outputs": [],
   "source": [
    "#List for the response Results to be populated into.\n",
    "temp = []\n",
    "hum = []\n",
    "cloud = []\n",
    "wind = []\n",
    "latitude = []\n",
    "longitude = []\n",
    "country = []\n",
    "date = []\n",
    "weather_info = []\n",
    "city_name = []"
   ]
  },
  {
   "cell_type": "code",
   "execution_count": null,
   "metadata": {},
   "outputs": [],
   "source": [
    "# loop through cities, make API request, and append desired results\n",
    "a=0\n",
    "for city in cities:\n",
    "    info = requests.get(q_url + city).json()\n",
    "    a=a+1\n",
    "    try:\n",
    "        temp.append(info['main']['temp'])\n",
    "        hum.append(info['main']['humidity'])\n",
    "        cloud.append(info['clouds']['all'])\n",
    "        wind.append(info['wind']['speed'])\n",
    "        latitude.append(info['coord']['lat'])\n",
    "        #country.append(info['sys']['country'])\n",
    "        date.append(info['dt'])\n",
    "        longitude.append(info['coord']['lon'])\n",
    "        #city_name.append(city['name'])\n",
    "        weather_info.append({temp, hum, cloud,\n",
    "                             wind, latitude, longitude,\n",
    "                             country, date})\n",
    "        print(f\"counter {a} || {city}\")\n",
    "        time.sleep(.1)\n",
    "    except:\n",
    "        print(\"City not Found\")\n",
    "\n",
    "    "
   ]
  },
  {
   "cell_type": "code",
   "execution_count": null,
   "metadata": {},
   "outputs": [],
   "source": [
    "print(f\"Temperature: {temp}\")\n",
    "print(f\"Humidity: {hum}\")\n",
    "print(f\"Cloudiness: {cloud}\")\n",
    "print(f\"Wind Speed: {wind}\")\n",
    "print(f\"Country: {country}\")\n",
    "print(f\"Latitude: {latitude}\")\n",
    "print(f\"Longitude: {longitude}\")\n",
    "print(f\"Date: {date}\")\n",
    "#print(f\"Weather Info: {weather_info}\")\n",
    "#print(f\"City Name: {city_name}\")\n",
    "\n",
    "#date=time.strftime(\"%d/%m/%y\")"
   ]
  },
  {
   "cell_type": "code",
   "execution_count": null,
   "metadata": {},
   "outputs": [],
   "source": [
    "data_df=pd.DataFrame(weather_info,columns=[\"Temperature\", \n",
    "                                           'Humidity',\n",
    "                                           'Wind Speed',\n",
    "                                           'Cloudiness',\n",
    "                                           \"Latitude\", \n",
    "                                           \"Country\",\n",
    "                                           \"Date\",\n",
    "                                           \"Longitude\"])\n",
    "data_df"
   ]
  },
  {
   "cell_type": "code",
   "execution_count": null,
   "metadata": {},
   "outputs": [],
   "source": [
    "#Display Data Frame.\n",
    "data_dict = {\"City\": cities, \n",
    "            'Temperature': temp, \n",
    "            'Humidity': hum, \n",
    "            'Cloudiness': cloud, \n",
    "            'Longitude': longitude, \n",
    "            'Country': country, \n",
    "            'Date': date, \n",
    "            'Latitude': latitude}\n",
    "data_df = pd.DataFrame.from_dict(data_dict, \n",
    "                            orient='columns', \n",
    "                            dtype=None, \n",
    "                            columns=None)    \n",
    "data_df.head()\n",
    "\n",
    "# Get weather data\n",
    "#weather_response = requests.get(q_url)\n",
    "#weather_json = weather_response.json()\n",
    "# Get the temperature from the response\n",
    "#print(f\"The weather API responded with: {weather_json}.\")"
   ]
  },
  {
   "cell_type": "code",
   "execution_count": null,
   "metadata": {},
   "outputs": [],
   "source": [
    "#weather_info = {\"City\": cities, \n",
    "                #\"Temperature\": temp, \n",
    "                #\"Humidity\": hum, \n",
    "                #\"Cloudiness\": cloud, \n",
    "                #\"Wind Speed\": wind}\n",
    "#weather_info = pd.DataFrame(weather_info)\n",
    "#weather_info"
   ]
  },
  {
   "cell_type": "markdown",
   "metadata": {},
   "source": [
    "### Plotting the Data\n",
    "* Use proper labeling of the plots using plot titles (including date of analysis) and axes labels.\n",
    "* Save the plotted figures as .pngs."
   ]
  },
  {
   "cell_type": "markdown",
   "metadata": {},
   "source": [
    "#### Latitude vs. Temperature Plot"
   ]
  },
  {
   "cell_type": "code",
   "execution_count": null,
   "metadata": {},
   "outputs": [],
   "source": [
    "# Build a scatter plot for each data type and incorporate the other graph properties\n",
    "data_df.count()\n",
    "plt.scatter(data_df[\"Latitude\"],\n",
    "            data_df[\"Temperature\"],\n",
    "            color=\"lightblue\", \n",
    "            edgecolor='black') \n",
    "plt.title(f\"City Latitude vs Temperature ({date})\")\n",
    "plt.ylabel(\"Temprature (F)\")\n",
    "plt.xlabel(\"Latitude\")\n",
    "plt.grid(True)\n",
    "\n",
    "# Save the figure\n",
    "plt.savefig(\"Latitude_VS_Temperature.png\")\n",
    "\n",
    "# Show plot\n",
    "plt.show()"
   ]
  },
  {
   "cell_type": "markdown",
   "metadata": {},
   "source": [
    "#### Latitude vs. Humidity Plot"
   ]
  },
  {
   "cell_type": "code",
   "execution_count": null,
   "metadata": {},
   "outputs": [],
   "source": [
    "# Build a scatter plot for each data type and incorporate the other graph properties\n",
    "data_df.count()\n",
    "plt.scatter(data_df[\"Latitude\"],\n",
    "            data_df[\"Humidity\"],\n",
    "            color=\"yellow\", edgecolor='gray') \n",
    "plt.title(f\"City Latitude vs Humidity\")\n",
    "plt.ylabel(\"Humidity\")\n",
    "plt.xlabel(\"Latitude\")\n",
    "plt.grid(True)\n",
    "\n",
    "# Save the figure\n",
    "plt.savefig(\"Latitude_VS_Humidity.png\")\n",
    "\n",
    "# Show plot\n",
    "plt.show()"
   ]
  },
  {
   "cell_type": "markdown",
   "metadata": {},
   "source": [
    "#### Latitude vs. Cloudiness Plot"
   ]
  },
  {
   "cell_type": "code",
   "execution_count": null,
   "metadata": {},
   "outputs": [],
   "source": [
    "# Build a scatter plot for each data type and incorporate the other graph properties\n",
    "data_df.count()\n",
    "plt.scatter(data_df[\"Lattitude\"],data_df[\"Cloudiness\"],color=\"gray\", edgecolor='black' ) \n",
    "plt.title(f\"City Latitude vs Cloudiness\")\n",
    "plt.ylabel(\"Cloudiness\")\n",
    "plt.xlabel(\"Latitude\")\n",
    "plt.grid(True)\n",
    "\n",
    "# Save the figure\n",
    "plt.savefig(\"Latitude_VS_Cloudiness Plot\")\n",
    "\n",
    "# Show plot\n",
    "plt.show()"
   ]
  },
  {
   "cell_type": "markdown",
   "metadata": {},
   "source": [
    "#### Latitude vs. Wind Speed Plot"
   ]
  },
  {
   "cell_type": "code",
   "execution_count": null,
   "metadata": {},
   "outputs": [],
   "source": [
    "# Build a scatter plot for each data type and incorporate the other graph properties\n",
    "data_ds.count()\n",
    "data_ds.count()\n",
    "plt.scatter(data_ds[\"Lattitude\"],data_ds[\"Speed\"],color=\"blue\", edgecolor='red' ) \n",
    "plt.title(f\"City Latitude vs Wind Speed\")\n",
    "plt.ylabel(\"Wind Speed\")\n",
    "plt.xlabel(\"Latitude\")\n",
    "plt.grid(True)\n",
    "\n",
    "# Save the figure\n",
    "plt.savefig(\"Latitude_VS_Wind Speed\")\n",
    "\n",
    "# Show plot\n",
    "plt.show()"
   ]
  }
 ],
 "metadata": {
  "anaconda-cloud": {},
  "kernel_info": {
   "name": "python3"
  },
  "kernelspec": {
   "display_name": "Python 3",
   "language": "python",
   "name": "python3"
  },
  "language_info": {
   "codemirror_mode": {
    "name": "ipython",
    "version": 3
   },
   "file_extension": ".py",
   "mimetype": "text/x-python",
   "name": "python",
   "nbconvert_exporter": "python",
   "pygments_lexer": "ipython3",
   "version": "3.7.4"
  },
  "nteract": {
   "version": "0.12.3"
  }
 },
 "nbformat": 4,
 "nbformat_minor": 2
}
