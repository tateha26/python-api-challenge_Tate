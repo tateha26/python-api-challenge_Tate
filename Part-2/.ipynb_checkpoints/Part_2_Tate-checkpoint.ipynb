{
 "cells": [
  {
   "cell_type": "code",
   "execution_count": 1,
   "metadata": {},
   "outputs": [],
   "source": [
    "%matplotlib notebook"
   ]
  },
  {
   "cell_type": "code",
   "execution_count": 2,
   "metadata": {},
   "outputs": [],
   "source": [
    "# Dependencies\n",
    "import tweepy\n",
    "import numpy as np\n",
    "import json\n",
    "import pandas as pd\n",
    "import matplotlib.pyplot as plt\n",
    "from config_Tate import consumer_key, consumer_secret, access_token, access_token_secret\n",
    "import random\n",
    "import requests\n",
    "import time\n",
    "import sys\n",
    "\n",
    "# Setup Tweepy API Authentication\n",
    "auth = tweepy.OAuthHandler(consumer_key, consumer_secret)\n",
    "auth.set_access_token(access_token, access_token_secret)\n",
    "api = tweepy.API(auth, parser=tweepy.parsers.JSONParser())\n",
    "\n",
    "# Import and Initialize Sentiment Analyzer\n",
    "from vaderSentiment.vaderSentiment import SentimentIntensityAnalyzer\n",
    "analyzer = SentimentIntensityAnalyzer()"
   ]
  },
  {
   "cell_type": "code",
   "execution_count": 3,
   "metadata": {},
   "outputs": [],
   "source": [
    "#Target Term Searches\n",
    "target_terms = \"@BBCWorld\",\"@CBSNews\",\"@CNN\",\"@FoxNews\",\"@nytimes\""
   ]
  },
  {
   "cell_type": "code",
   "execution_count": 4,
   "metadata": {},
   "outputs": [],
   "source": [
    "# Lists to hold sentiments\n",
    "compound_list = []\n",
    "positive_list = []\n",
    "negative_list = []\n",
    "neutral_list = []\n",
    "sentiments = []"
   ]
  },
  {
   "cell_type": "code",
   "execution_count": 5,
   "metadata": {},
   "outputs": [
    {
     "data": {
      "text/html": [
       "<div>\n",
       "<style scoped>\n",
       "    .dataframe tbody tr th:only-of-type {\n",
       "        vertical-align: middle;\n",
       "    }\n",
       "\n",
       "    .dataframe tbody tr th {\n",
       "        vertical-align: top;\n",
       "    }\n",
       "\n",
       "    .dataframe thead th {\n",
       "        text-align: right;\n",
       "    }\n",
       "</style>\n",
       "<table border=\"1\" class=\"dataframe\">\n",
       "  <thead>\n",
       "    <tr style=\"text-align: right;\">\n",
       "      <th></th>\n",
       "      <th>User</th>\n",
       "      <th>Compound</th>\n",
       "      <th>Positive</th>\n",
       "      <th>Negative</th>\n",
       "      <th>Neutral</th>\n",
       "      <th>Tweets Ago</th>\n",
       "    </tr>\n",
       "  </thead>\n",
       "  <tbody>\n",
       "    <tr>\n",
       "      <td>0</td>\n",
       "      <td>@BBCWorld</td>\n",
       "      <td>0.5423</td>\n",
       "      <td>0.378</td>\n",
       "      <td>0.133</td>\n",
       "      <td>0.490</td>\n",
       "      <td>0</td>\n",
       "    </tr>\n",
       "    <tr>\n",
       "      <td>1</td>\n",
       "      <td>@BBCWorld</td>\n",
       "      <td>0.1531</td>\n",
       "      <td>0.203</td>\n",
       "      <td>0.165</td>\n",
       "      <td>0.633</td>\n",
       "      <td>1</td>\n",
       "    </tr>\n",
       "    <tr>\n",
       "      <td>2</td>\n",
       "      <td>@BBCWorld</td>\n",
       "      <td>0.0000</td>\n",
       "      <td>0.000</td>\n",
       "      <td>0.000</td>\n",
       "      <td>1.000</td>\n",
       "      <td>2</td>\n",
       "    </tr>\n",
       "    <tr>\n",
       "      <td>3</td>\n",
       "      <td>@BBCWorld</td>\n",
       "      <td>0.0000</td>\n",
       "      <td>0.000</td>\n",
       "      <td>0.000</td>\n",
       "      <td>1.000</td>\n",
       "      <td>3</td>\n",
       "    </tr>\n",
       "    <tr>\n",
       "      <td>4</td>\n",
       "      <td>@BBCWorld</td>\n",
       "      <td>-0.6249</td>\n",
       "      <td>0.000</td>\n",
       "      <td>0.389</td>\n",
       "      <td>0.611</td>\n",
       "      <td>4</td>\n",
       "    </tr>\n",
       "    <tr>\n",
       "      <td>...</td>\n",
       "      <td>...</td>\n",
       "      <td>...</td>\n",
       "      <td>...</td>\n",
       "      <td>...</td>\n",
       "      <td>...</td>\n",
       "      <td>...</td>\n",
       "    </tr>\n",
       "    <tr>\n",
       "      <td>995</td>\n",
       "      <td>@nytimes</td>\n",
       "      <td>0.3612</td>\n",
       "      <td>0.116</td>\n",
       "      <td>0.000</td>\n",
       "      <td>0.884</td>\n",
       "      <td>195</td>\n",
       "    </tr>\n",
       "    <tr>\n",
       "      <td>996</td>\n",
       "      <td>@nytimes</td>\n",
       "      <td>-0.5574</td>\n",
       "      <td>0.133</td>\n",
       "      <td>0.255</td>\n",
       "      <td>0.612</td>\n",
       "      <td>196</td>\n",
       "    </tr>\n",
       "    <tr>\n",
       "      <td>997</td>\n",
       "      <td>@nytimes</td>\n",
       "      <td>0.0000</td>\n",
       "      <td>0.000</td>\n",
       "      <td>0.000</td>\n",
       "      <td>1.000</td>\n",
       "      <td>197</td>\n",
       "    </tr>\n",
       "    <tr>\n",
       "      <td>998</td>\n",
       "      <td>@nytimes</td>\n",
       "      <td>-0.4588</td>\n",
       "      <td>0.000</td>\n",
       "      <td>0.150</td>\n",
       "      <td>0.850</td>\n",
       "      <td>198</td>\n",
       "    </tr>\n",
       "    <tr>\n",
       "      <td>999</td>\n",
       "      <td>@nytimes</td>\n",
       "      <td>0.2023</td>\n",
       "      <td>0.087</td>\n",
       "      <td>0.000</td>\n",
       "      <td>0.913</td>\n",
       "      <td>199</td>\n",
       "    </tr>\n",
       "  </tbody>\n",
       "</table>\n",
       "<p>1000 rows × 6 columns</p>\n",
       "</div>"
      ],
      "text/plain": [
       "          User  Compound  Positive  Negative  Neutral  Tweets Ago\n",
       "0    @BBCWorld    0.5423     0.378     0.133    0.490           0\n",
       "1    @BBCWorld    0.1531     0.203     0.165    0.633           1\n",
       "2    @BBCWorld    0.0000     0.000     0.000    1.000           2\n",
       "3    @BBCWorld    0.0000     0.000     0.000    1.000           3\n",
       "4    @BBCWorld   -0.6249     0.000     0.389    0.611           4\n",
       "..         ...       ...       ...       ...      ...         ...\n",
       "995   @nytimes    0.3612     0.116     0.000    0.884         195\n",
       "996   @nytimes   -0.5574     0.133     0.255    0.612         196\n",
       "997   @nytimes    0.0000     0.000     0.000    1.000         197\n",
       "998   @nytimes   -0.4588     0.000     0.150    0.850         198\n",
       "999   @nytimes    0.2023     0.087     0.000    0.913         199\n",
       "\n",
       "[1000 rows x 6 columns]"
      ]
     },
     "execution_count": 5,
     "metadata": {},
     "output_type": "execute_result"
    }
   ],
   "source": [
    "for user in target_terms:\n",
    "    counter=0\n",
    "    user_tweets= api.user_timeline(user, count=500)\n",
    "    #user_tweets = api.search(target_terms, count=500, result_type=\"recent\")\n",
    "    \n",
    "    for tweet in user_tweets:   \n",
    "        compound = analyzer.polarity_scores(tweet[\"text\"])[\"compound\"]\n",
    "        pos = analyzer.polarity_scores(tweet[\"text\"])[\"pos\"]\n",
    "        neu = analyzer.polarity_scores(tweet[\"text\"])[\"neu\"]\n",
    "        neg = analyzer.polarity_scores(tweet[\"text\"])[\"neg\"]\n",
    "        tweets_ago=counter\n",
    "        \n",
    "        sentiments.append({\"User\": user, \"Compound\": compound, \n",
    "                           \"Positive\": pos, \"Negative\": neg, \n",
    "                           \"Neutral\": neu, \"Tweets Ago\": counter})\n",
    "        counter=counter+1\n",
    "twitter_df = pd.DataFrame(sentiments)\n",
    "twitter_df"
   ]
  },
  {
   "cell_type": "code",
   "execution_count": 6,
   "metadata": {},
   "outputs": [
    {
     "data": {
      "text/plain": [
       "array(['@BBCWorld', '@CBSNews', '@CNN', '@FoxNews', '@nytimes'],\n",
       "      dtype=object)"
      ]
     },
     "execution_count": 6,
     "metadata": {},
     "output_type": "execute_result"
    }
   ],
   "source": [
    "unique_twitters = twitter_df[\"User\"].unique()\n",
    "unique_twitters"
   ]
  },
  {
   "cell_type": "code",
   "execution_count": null,
   "metadata": {},
   "outputs": [],
   "source": [
    "#unique_twitters_com=twitter_df(len(unique_twitters[1])[\"Compound\"].value_counts()\n",
    "#unique_twitters_pos=twitter_df(len(unique_twitters[1])[\"Positive\"].value_counts()\n",
    "#unique_twitters_neg=twitter_df(len(unique_twitters[1])[\"Negative\"].value_counts()\n",
    "#unique_twitters_neu=twitter_df(len(unique_twitters[1])[\"Neutral\"].value_counts()"
   ]
  },
  {
   "cell_type": "code",
   "execution_count": 9,
   "metadata": {},
   "outputs": [
    {
     "ename": "TypeError",
     "evalue": "'builtin_function_or_method' object is not subscriptable",
     "output_type": "error",
     "traceback": [
      "\u001b[0;31m---------------------------------------------------------------------------\u001b[0m",
      "\u001b[0;31mTypeError\u001b[0m                                 Traceback (most recent call last)",
      "\u001b[0;32m<ipython-input-9-acf99c29d3fc>\u001b[0m in \u001b[0;36m<module>\u001b[0;34m\u001b[0m\n\u001b[0;32m----> 1\u001b[0;31m \u001b[0mbbc\u001b[0m \u001b[0;34m=\u001b[0m \u001b[0;34m(\u001b[0m\u001b[0munique_twitters\u001b[0m\u001b[0;34m[\u001b[0m\u001b[0;36m0\u001b[0m\u001b[0;34m]\u001b[0m\u001b[0;34m,\u001b[0m \u001b[0;34m(\u001b[0m\u001b[0mlen\u001b[0m\u001b[0;34m[\u001b[0m\u001b[0;34m\"Compound\"\u001b[0m\u001b[0;34m]\u001b[0m\u001b[0;34m)\u001b[0m\u001b[0;34m)\u001b[0m\u001b[0;34m\u001b[0m\u001b[0;34m\u001b[0m\u001b[0m\n\u001b[0m\u001b[1;32m      2\u001b[0m \u001b[0;31m#unique_twitters_pos\u001b[0m\u001b[0;34m\u001b[0m\u001b[0;34m\u001b[0m\u001b[0;34m\u001b[0m\u001b[0m\n\u001b[1;32m      3\u001b[0m \u001b[0;31m#unique_twitters_neg\u001b[0m\u001b[0;34m\u001b[0m\u001b[0;34m\u001b[0m\u001b[0;34m\u001b[0m\u001b[0m\n\u001b[1;32m      4\u001b[0m \u001b[0;31m#unique_twitters_neu\u001b[0m\u001b[0;34m\u001b[0m\u001b[0;34m\u001b[0m\u001b[0;34m\u001b[0m\u001b[0m\n",
      "\u001b[0;31mTypeError\u001b[0m: 'builtin_function_or_method' object is not subscriptable"
     ]
    }
   ],
   "source": [
    "bbc = (unique_twitters[0], (len[\"Compound\"]))\n",
    "#unique_twitters_pos\n",
    "#unique_twitters_neg\n",
    "#unique_twitters_neu"
   ]
  },
  {
   "cell_type": "code",
   "execution_count": null,
   "metadata": {},
   "outputs": [],
   "source": [
    "twitter_bbc_df"
   ]
  },
  {
   "cell_type": "code",
   "execution_count": null,
   "metadata": {},
   "outputs": [],
   "source": [
    "# Store the Average Sentiments\n",
    "sentiment_bbc = {\"@BBCWorld\": {\"Compound\": np.mean(compound),\n",
    "             \"Positive\": np.mean(pos),\n",
    "             \"Neutral\": np.mean(neg),\n",
    "             \"Negative\": np.mean(neu)}\n",
    "}\n",
    "\n",
    "sentiment_cbs = {\"@CBSNews\": {\"Compound\": np.mean(compound),\n",
    "             \"Positive\": np.mean(pos),\n",
    "             \"Neutral\": np.mean(neg),\n",
    "             \"Negative\": np.mean(neu)}\n",
    "}\n",
    "\n",
    "sentiment_cnn = {\"@CNN\": {\"Compound\": np.mean(compound),\n",
    "             \"Positive\": np.mean(pos),\n",
    "             \"Neutral\": np.mean(neg),\n",
    "             \"Negative\": np.mean(neu)}\n",
    "                }\n",
    "\n",
    "sentiment_fox = {\"@FoxNews\": {\"Compound\": np.mean(compound),\n",
    "             \"Positive\": np.mean(pos),\n",
    "             \"Neutral\": np.mean(neg),\n",
    "             \"Negative\": np.mean(neu)}\n",
    "                }\n",
    "                 \n",
    "sentiment_nyt = {\"@nytimes\": {\"Compound\": np.mean(compound),\n",
    "             \"Positive\": np.mean(pos),\n",
    "             \"Neutral\": np.mean(neg),\n",
    "             \"Negative\": np.mean(neu)}\n",
    "            }"
   ]
  },
  {
   "cell_type": "code",
   "execution_count": null,
   "metadata": {},
   "outputs": [],
   "source": [
    "print(sentiment_bbc)\n",
    "print(sentiment_cbs)\n",
    "print(sentiment_cnn)\n",
    "print(sentiment_fox)\n",
    "print(sentiment_nyt)"
   ]
  },
  {
   "cell_type": "code",
   "execution_count": null,
   "metadata": {},
   "outputs": [],
   "source": [
    "def sentiment_scores(sentiment_avg): \n",
    "  \n",
    "    # Create a SentimentIntensityAnalyzer object. \n",
    "    sid_obj = SentimentIntensityAnalyzer() \n",
    "\n",
    "# decide sentiment as positive, negative and neutral \n",
    "    if sentiment_dict['compound'] >= 1 : \n",
    "        print(\"Positive\") \n",
    "  \n",
    "    elif sentiment_dict['compound'] <= -1 : \n",
    "        print(\"Negative\") \n",
    "  \n",
    "    else : \n",
    "        print(\"Neutral\") "
   ]
  },
  {
   "cell_type": "code",
   "execution_count": null,
   "metadata": {},
   "outputs": [],
   "source": [
    "#data_ds.count()\n",
    "sentiment = [\"@nytimes\", \"@CBSNews\", \"@CNN\", \"@FoxNews\", \"@nytimes\"]\n",
    "array(['@BBCWorld', '@CBSNews', '@CNN', '@FoxNews', '@nytimes'],\n",
    "bars_in_cities = [8.6, 8.5, 8.3, 7.9, 7.2]\n",
    "x_axis = np.arange(len(bars_in_cities))\n",
    "\n",
    "# Create a bar chart based upon the above data\n",
    "plt.bar(x_axis, bars_in_cities, color=\"b\", align=\"center\")\n",
    "\n",
    "plt.scatter(data_ds[\"Lattitude\"],data_ds[\"Temperature Max\"],color=\"lightblue\", edgecolor='black' ) \n",
    "plt.title(f\"City Latitude vs Max Temperature ({date})\")\n",
    "plt.ylabel(\"Max Temprature (F)\")\n",
    "plt.xlabel(\"Latitude\")"
   ]
  }
 ],
 "metadata": {
  "kernelspec": {
   "display_name": "Python 3",
   "language": "python",
   "name": "python3"
  },
  "language_info": {
   "codemirror_mode": {
    "name": "ipython",
    "version": 3
   },
   "file_extension": ".py",
   "mimetype": "text/x-python",
   "name": "python",
   "nbconvert_exporter": "python",
   "pygments_lexer": "ipython3",
   "version": "3.7.4"
  }
 },
 "nbformat": 4,
 "nbformat_minor": 2
}
